{
 "cells": [
  {
   "cell_type": "markdown",
   "metadata": {},
   "source": [
    "### Import Reuired Libraries"
   ]
  },
  {
   "cell_type": "code",
   "execution_count": 1,
   "metadata": {},
   "outputs": [],
   "source": [
    "from pyspark.sql import SparkSession\n",
    "import pyspark.sql.functions as F"
   ]
  },
  {
   "cell_type": "markdown",
   "metadata": {},
   "source": [
    "### Create SparkSession and SparkContext"
   ]
  },
  {
   "cell_type": "code",
   "execution_count": 2,
   "metadata": {
    "application/vnd.databricks.v1+cell": {
     "cellMetadata": {},
     "inputWidgets": {},
     "nuid": "e5c2a62e-2964-4a91-b511-0c550be4d991",
     "showTitle": false,
     "title": ""
    }
   },
   "outputs": [
    {
     "name": "stderr",
     "output_type": "stream",
     "text": [
      "Setting default log level to \"WARN\".\n",
      "To adjust logging level use sc.setLogLevel(newLevel). For SparkR, use setLogLevel(newLevel).\n"
     ]
    },
    {
     "name": "stdout",
     "output_type": "stream",
     "text": [
      "22/12/20 13:01:42 WARN NativeCodeLoader: Unable to load native-hadoop library for your platform... using builtin-java classes where applicable\n",
      "22/12/20 13:01:44 WARN Utils: Service 'SparkUI' could not bind on port 4040. Attempting port 4041.\n"
     ]
    }
   ],
   "source": [
    "spark = SparkSession.builder.getOrCreate()"
   ]
  },
  {
   "cell_type": "markdown",
   "metadata": {},
   "source": [
    "### Setup"
   ]
  },
  {
   "cell_type": "code",
   "execution_count": 3,
   "metadata": {
    "application/vnd.databricks.v1+cell": {
     "cellMetadata": {},
     "inputWidgets": {},
     "nuid": "196962c1-799f-40df-8177-25dd1eb82c2b",
     "showTitle": false,
     "title": ""
    }
   },
   "outputs": [],
   "source": [
    "# Create Dataframe with Array Column\n",
    "array_data = [(1, ['apple', 'banana', 'cherry', None, 'melon'], [10, 12, 15, 17, 20])]\n",
    "array_df = spark.createDataFrame(array_data, ['id', 'fruit', 'num_fruit'])\n",
    "\n",
    "# Create Dataframe with Map Column\n",
    "map_data = [(1, {'apple' : 10, 'banana': 12, 'cherry':15, 'melon': 20})]\n",
    "map_df = spark.createDataFrame(map_data, (\"id\", \"map_data\"))"
   ]
  },
  {
   "cell_type": "code",
   "execution_count": 4,
   "metadata": {
    "application/vnd.databricks.v1+cell": {
     "cellMetadata": {},
     "inputWidgets": {},
     "nuid": "8404bec4-32ab-4b92-a1f5-d5d13e44450c",
     "showTitle": false,
     "title": ""
    }
   },
   "outputs": [
    {
     "name": "stdout",
     "output_type": "stream",
     "text": [
      "Schema for array_df\n",
      "root\n",
      " |-- id: long (nullable = true)\n",
      " |-- fruit: array (nullable = true)\n",
      " |    |-- element: string (containsNull = true)\n",
      " |-- num_fruit: array (nullable = true)\n",
      " |    |-- element: long (containsNull = true)\n",
      "\n",
      "Schema for map_df\n",
      "root\n",
      " |-- id: long (nullable = true)\n",
      " |-- map_data: map (nullable = true)\n",
      " |    |-- key: string\n",
      " |    |-- value: long (valueContainsNull = true)\n",
      "\n"
     ]
    }
   ],
   "source": [
    "print(\"Schema for array_df\")\n",
    "array_df.printSchema()\n",
    "\n",
    "print(\"Schema for map_df\")\n",
    "map_df.printSchema()"
   ]
  },
  {
   "cell_type": "markdown",
   "metadata": {
    "application/vnd.databricks.v1+cell": {
     "cellMetadata": {},
     "inputWidgets": {},
     "nuid": "aa339f9d-eb37-4838-b251-2e24b1e85d1d",
     "showTitle": false,
     "title": ""
    }
   },
   "source": [
    "#### Transform"
   ]
  },
  {
   "cell_type": "code",
   "execution_count": 5,
   "metadata": {
    "application/vnd.databricks.v1+cell": {
     "cellMetadata": {},
     "inputWidgets": {},
     "nuid": "413fb368-fa13-4d83-bd7a-e9cbc4e4e675",
     "showTitle": false,
     "title": ""
    }
   },
   "outputs": [
    {
     "name": "stderr",
     "output_type": "stream",
     "text": [
      "                                                                                \r"
     ]
    },
    {
     "name": "stdout",
     "output_type": "stream",
     "text": [
      "+------------------------------------+------------------+\n",
      "|fruit                               |str_len           |\n",
      "+------------------------------------+------------------+\n",
      "|[apple, banana, cherry, null, melon]|[5, 6, 6, null, 5]|\n",
      "+------------------------------------+------------------+\n",
      "\n"
     ]
    }
   ],
   "source": [
    "(array_df.select(\"fruit\", \n",
    "                 F.transform(\"fruit\", lambda x: F.length(x)).alias(\"str_len\"))\n",
    " .show(truncate=False)\n",
    ")"
   ]
  },
  {
   "cell_type": "code",
   "execution_count": 6,
   "metadata": {
    "application/vnd.databricks.v1+cell": {
     "cellMetadata": {},
     "inputWidgets": {},
     "nuid": "2b4633cc-5b35-4438-8b4d-ad1a57f5aed8",
     "showTitle": false,
     "title": ""
    }
   },
   "outputs": [
    {
     "name": "stdout",
     "output_type": "stream",
     "text": [
      "+------------------------------------+------------------+\n",
      "|fruit                               |str_len           |\n",
      "+------------------------------------+------------------+\n",
      "|[apple, banana, cherry, null, melon]|[5, 6, 6, null, 5]|\n",
      "+------------------------------------+------------------+\n",
      "\n"
     ]
    }
   ],
   "source": [
    "# Using SQL API\n",
    "(array_df.selectExpr(\"fruit\", \"TRANSFORM(fruit, x -> length(x)) as str_len\")\n",
    ".show(truncate=False)\n",
    ")"
   ]
  },
  {
   "cell_type": "code",
   "execution_count": 7,
   "metadata": {
    "application/vnd.databricks.v1+cell": {
     "cellMetadata": {},
     "inputWidgets": {},
     "nuid": "ddf6efda-456a-4fcb-aea4-a8f8160f515f",
     "showTitle": false,
     "title": ""
    }
   },
   "outputs": [
    {
     "name": "stdout",
     "output_type": "stream",
     "text": [
      "+--------------------+--------------------+\n",
      "|num_fruit           |num_fruit_1         |\n",
      "+--------------------+--------------------+\n",
      "|[10, 12, 15, 17, 20]|[11, 13, 16, 18, 21]|\n",
      "+--------------------+--------------------+\n",
      "\n"
     ]
    }
   ],
   "source": [
    "(array_df.select(\"num_fruit\", \n",
    "                 F.transform(\"num_fruit\", lambda x: x + 1).alias(\"num_fruit_1\"))\n",
    " .show(truncate=False)\n",
    ")"
   ]
  },
  {
   "cell_type": "code",
   "execution_count": 8,
   "metadata": {
    "application/vnd.databricks.v1+cell": {
     "cellMetadata": {},
     "inputWidgets": {},
     "nuid": "4146324b-63e8-48eb-bab5-64525a9a0ba5",
     "showTitle": false,
     "title": ""
    }
   },
   "outputs": [
    {
     "name": "stdout",
     "output_type": "stream",
     "text": [
      "+--------------------+--------------------+\n",
      "|num_fruit           |num_fruit_1         |\n",
      "+--------------------+--------------------+\n",
      "|[10, 12, 15, 17, 20]|[11, 13, 16, 18, 21]|\n",
      "+--------------------+--------------------+\n",
      "\n"
     ]
    }
   ],
   "source": [
    "# Using SQL API\n",
    "(array_df.selectExpr(\"num_fruit\", \"TRANSFORM(num_fruit, x -> x + 1) as num_fruit_1\")\n",
    " .show(truncate=False)\n",
    ")"
   ]
  },
  {
   "cell_type": "code",
   "execution_count": 9,
   "metadata": {
    "application/vnd.databricks.v1+cell": {
     "cellMetadata": {},
     "inputWidgets": {},
     "nuid": "8c620f07-60fc-4687-a0bb-b536041d8405",
     "showTitle": false,
     "title": ""
    }
   },
   "outputs": [
    {
     "name": "stdout",
     "output_type": "stream",
     "text": [
      "+--------------------+--------------------+\n",
      "|num_fruit           |num_fruit_1         |\n",
      "+--------------------+--------------------+\n",
      "|[10, 12, 15, 17, 20]|[11, 13, 16, 18, 21]|\n",
      "+--------------------+--------------------+\n",
      "\n"
     ]
    }
   ],
   "source": [
    "def add_1(x):\n",
    "  return x + 1\n",
    "\n",
    "(array_df.select(\"num_fruit\", F.transform(\"num_fruit\", lambda x: add_1(x)).alias(\"num_fruit_1\"))\n",
    ".show(truncate=False)\n",
    ")"
   ]
  },
  {
   "cell_type": "markdown",
   "metadata": {
    "application/vnd.databricks.v1+cell": {
     "cellMetadata": {},
     "inputWidgets": {},
     "nuid": "e01c60ea-ae17-4df7-acc6-4be852e8f057",
     "showTitle": false,
     "title": ""
    }
   },
   "source": [
    "#### Filter"
   ]
  },
  {
   "cell_type": "code",
   "execution_count": 10,
   "metadata": {
    "application/vnd.databricks.v1+cell": {
     "cellMetadata": {},
     "inputWidgets": {},
     "nuid": "2ff42474-7f8b-4515-8b81-9847e52f990e",
     "showTitle": false,
     "title": ""
    }
   },
   "outputs": [
    {
     "name": "stdout",
     "output_type": "stream",
     "text": [
      "+--------------------+------------+\n",
      "|num_fruit           |even_num    |\n",
      "+--------------------+------------+\n",
      "|[10, 12, 15, 17, 20]|[10, 12, 20]|\n",
      "+--------------------+------------+\n",
      "\n"
     ]
    }
   ],
   "source": [
    "(array_df.select(\"num_fruit\", \n",
    "                 F.filter(\"num_fruit\", lambda x: x%2 == 0).alias(\"even_num\"))\n",
    ".show(truncate=False)\n",
    ")"
   ]
  },
  {
   "cell_type": "code",
   "execution_count": 11,
   "metadata": {
    "application/vnd.databricks.v1+cell": {
     "cellMetadata": {},
     "inputWidgets": {},
     "nuid": "be514294-88e3-49f9-9070-a71644d39825",
     "showTitle": false,
     "title": ""
    }
   },
   "outputs": [
    {
     "name": "stdout",
     "output_type": "stream",
     "text": [
      "+--------------------+------------+\n",
      "|num_fruit           |even_num    |\n",
      "+--------------------+------------+\n",
      "|[10, 12, 15, 17, 20]|[10, 12, 20]|\n",
      "+--------------------+------------+\n",
      "\n"
     ]
    }
   ],
   "source": [
    "def even_num(x):\n",
    "    return x % 2 == 0\n",
    "  \n",
    "(array_df.select(\"num_fruit\", \n",
    "                 F.filter(\"num_fruit\", lambda x: even_num(x)).alias(\"even_num\"))\n",
    ".show(truncate=False))"
   ]
  },
  {
   "cell_type": "code",
   "execution_count": 12,
   "metadata": {
    "application/vnd.databricks.v1+cell": {
     "cellMetadata": {},
     "inputWidgets": {},
     "nuid": "6e7c84a0-2968-466d-b222-0c5feccc4b36",
     "showTitle": false,
     "title": ""
    }
   },
   "outputs": [
    {
     "name": "stdout",
     "output_type": "stream",
     "text": [
      "+--------------------+------------+\n",
      "|num_fruit           |even_num    |\n",
      "+--------------------+------------+\n",
      "|[10, 12, 15, 17, 20]|[10, 12, 20]|\n",
      "+--------------------+------------+\n",
      "\n"
     ]
    }
   ],
   "source": [
    "# Using SQL API\n",
    "(array_df.selectExpr(\"num_fruit\", \"filter(num_fruit, x -> x % 2 == 0) as even_num\")\n",
    ".show(truncate=False)\n",
    ")"
   ]
  },
  {
   "cell_type": "markdown",
   "metadata": {
    "application/vnd.databricks.v1+cell": {
     "cellMetadata": {},
     "inputWidgets": {},
     "nuid": "ab925d15-7eed-4e69-8f62-4c0221e13d40",
     "showTitle": false,
     "title": ""
    }
   },
   "source": [
    "#### EXISTS"
   ]
  },
  {
   "cell_type": "code",
   "execution_count": 13,
   "metadata": {
    "application/vnd.databricks.v1+cell": {
     "cellMetadata": {},
     "inputWidgets": {},
     "nuid": "5291b702-e1bc-4fbd-a30d-f072a385f262",
     "showTitle": false,
     "title": ""
    }
   },
   "outputs": [
    {
     "name": "stdout",
     "output_type": "stream",
     "text": [
      "+------------------------------------+---------+\n",
      "|fruit                               |fruit_w_a|\n",
      "+------------------------------------+---------+\n",
      "|[apple, banana, cherry, null, melon]|true     |\n",
      "+------------------------------------+---------+\n",
      "\n"
     ]
    }
   ],
   "source": [
    "# To check if atleast one elements in the array satisfy some condition\n",
    "(array_df.select('fruit', \n",
    "                 F.exists('fruit', lambda x: x.startswith('a')).alias(\"fruit_w_a\"))\n",
    " .show(truncate=False)\n",
    ")"
   ]
  },
  {
   "cell_type": "code",
   "execution_count": 14,
   "metadata": {
    "application/vnd.databricks.v1+cell": {
     "cellMetadata": {},
     "inputWidgets": {},
     "nuid": "73aa5908-cf02-40c5-8ec6-9e5b407a297f",
     "showTitle": false,
     "title": ""
    }
   },
   "outputs": [
    {
     "name": "stdout",
     "output_type": "stream",
     "text": [
      "+------------------------------------+---------+\n",
      "|fruit                               |fruit_w_a|\n",
      "+------------------------------------+---------+\n",
      "|[apple, banana, cherry, null, melon]|true     |\n",
      "+------------------------------------+---------+\n",
      "\n"
     ]
    }
   ],
   "source": [
    "# Using SQL API\n",
    "(array_df.selectExpr(\"fruit\", \"exists(fruit, x -> startswith(x, 'a')) as fruit_w_a\")\n",
    ".show(truncate=False)\n",
    ")"
   ]
  },
  {
   "cell_type": "markdown",
   "metadata": {
    "application/vnd.databricks.v1+cell": {
     "cellMetadata": {},
     "inputWidgets": {},
     "nuid": "519a8de5-7ac4-474d-8334-33f6ec642d72",
     "showTitle": false,
     "title": ""
    }
   },
   "source": [
    "#### FORALL"
   ]
  },
  {
   "cell_type": "code",
   "execution_count": 15,
   "metadata": {
    "application/vnd.databricks.v1+cell": {
     "cellMetadata": {},
     "inputWidgets": {},
     "nuid": "a7a87fea-6d47-457c-9b1c-54b3b10b8584",
     "showTitle": false,
     "title": ""
    }
   },
   "outputs": [
    {
     "name": "stdout",
     "output_type": "stream",
     "text": [
      "+--------------------+-----+-----+\n",
      "|num_fruit           |lt_15|lt_25|\n",
      "+--------------------+-----+-----+\n",
      "|[10, 12, 15, 17, 20]|false|true |\n",
      "+--------------------+-----+-----+\n",
      "\n"
     ]
    }
   ],
   "source": [
    "# To check if all elements in the array satisfy some condition\n",
    "(array_df\n",
    " .select(\"num_fruit\", \n",
    "         F.forall(\"num_fruit\", lambda x: x < 15).alias(\"lt_15\"),\n",
    "        F.forall(\"num_fruit\", lambda x: x < 25).alias(\"lt_25\"))\n",
    " .show(truncate=False)\n",
    ")\n",
    " "
   ]
  },
  {
   "cell_type": "code",
   "execution_count": 16,
   "metadata": {
    "application/vnd.databricks.v1+cell": {
     "cellMetadata": {},
     "inputWidgets": {},
     "nuid": "df12aabd-985b-4f08-99b9-4419ae669e92",
     "showTitle": false,
     "title": ""
    }
   },
   "outputs": [
    {
     "name": "stdout",
     "output_type": "stream",
     "text": [
      "+--------------------+-----+-----+\n",
      "|num_fruit           |lt_15|lt_25|\n",
      "+--------------------+-----+-----+\n",
      "|[10, 12, 15, 17, 20]|false|true |\n",
      "+--------------------+-----+-----+\n",
      "\n"
     ]
    }
   ],
   "source": [
    "# Using SQL API\n",
    "(array_df.selectExpr(\"num_fruit\", \n",
    "                     \"forall(num_fruit, x -> x < 15) as lt_15\",\n",
    "                    \"forall(num_fruit, x -> x < 25) as lt_25\")\n",
    ".show(truncate=False)\n",
    ")"
   ]
  },
  {
   "cell_type": "markdown",
   "metadata": {
    "application/vnd.databricks.v1+cell": {
     "cellMetadata": {},
     "inputWidgets": {},
     "nuid": "0211d5a7-19d3-4b16-9116-486afbcb312b",
     "showTitle": false,
     "title": ""
    }
   },
   "source": [
    "#### AGGREGATE"
   ]
  },
  {
   "cell_type": "code",
   "execution_count": 17,
   "metadata": {
    "application/vnd.databricks.v1+cell": {
     "cellMetadata": {},
     "inputWidgets": {},
     "nuid": "32d5f2ac-b0a4-4502-bf1e-eb077d355d7c",
     "showTitle": false,
     "title": ""
    }
   },
   "outputs": [
    {
     "name": "stdout",
     "output_type": "stream",
     "text": [
      "+--------------------+----+\n",
      "|num_fruit           |sum |\n",
      "+--------------------+----+\n",
      "|[10, 12, 15, 17, 20]|74.0|\n",
      "+--------------------+----+\n",
      "\n"
     ]
    }
   ],
   "source": [
    "(array_df.select(\"num_fruit\", \n",
    "                 F.aggregate(\"num_fruit\", F.lit(0.0), lambda x, y: x + y).alias(\"sum\"))\n",
    ".show(truncate=False)\n",
    ")"
   ]
  },
  {
   "cell_type": "code",
   "execution_count": 18,
   "metadata": {
    "application/vnd.databricks.v1+cell": {
     "cellMetadata": {},
     "inputWidgets": {},
     "nuid": "d9ed888c-fbb3-4fe0-9226-ffafa792597c",
     "showTitle": false,
     "title": ""
    }
   },
   "outputs": [
    {
     "name": "stdout",
     "output_type": "stream",
     "text": [
      "+--------------------+----+\n",
      "|num_fruit           |sum |\n",
      "+--------------------+----+\n",
      "|[10, 12, 15, 17, 20]|74.0|\n",
      "+--------------------+----+\n",
      "\n"
     ]
    }
   ],
   "source": [
    "def add(x, y):\n",
    "  return x + y\n",
    "\n",
    "(array_df.select(\"num_fruit\", \n",
    "                 F.aggregate(\"num_fruit\", F.lit(0.0), add).alias(\"sum\"))\n",
    ".show(truncate=False)\n",
    ")"
   ]
  },
  {
   "cell_type": "code",
   "execution_count": 19,
   "metadata": {
    "application/vnd.databricks.v1+cell": {
     "cellMetadata": {},
     "inputWidgets": {},
     "nuid": "9d5ce58a-591f-4c05-9faf-57d9f1b6caa2",
     "showTitle": false,
     "title": ""
    }
   },
   "outputs": [
    {
     "name": "stdout",
     "output_type": "stream",
     "text": [
      "+--------------------+----+\n",
      "|num_fruit           |sum |\n",
      "+--------------------+----+\n",
      "|[10, 12, 15, 17, 20]|84.0|\n",
      "+--------------------+----+\n",
      "\n"
     ]
    }
   ],
   "source": [
    "(array_df.select(\"num_fruit\", \n",
    "                 F.aggregate(\"num_fruit\", F.lit(0.0), add, lambda x: x + 10).alias(\"sum\"))\n",
    ".show(truncate=False)\n",
    ")"
   ]
  },
  {
   "cell_type": "code",
   "execution_count": 20,
   "metadata": {
    "application/vnd.databricks.v1+cell": {
     "cellMetadata": {},
     "inputWidgets": {},
     "nuid": "c8a61281-4f65-4b59-b800-de9cd98184a6",
     "showTitle": false,
     "title": ""
    }
   },
   "outputs": [
    {
     "name": "stdout",
     "output_type": "stream",
     "text": [
      "+--------------------+---+\n",
      "|num_fruit           |sum|\n",
      "+--------------------+---+\n",
      "|[10, 12, 15, 17, 20]|74 |\n",
      "+--------------------+---+\n",
      "\n"
     ]
    }
   ],
   "source": [
    "# Using SQL API\n",
    "(array_df\n",
    " .selectExpr(\"num_fruit\", \"aggregate(num_fruit, 0, (x,y) -> int(x + y)) as sum\")\n",
    " .show(truncate=False)\n",
    "       )"
   ]
  },
  {
   "cell_type": "code",
   "execution_count": 21,
   "metadata": {
    "application/vnd.databricks.v1+cell": {
     "cellMetadata": {},
     "inputWidgets": {},
     "nuid": "8f849869-c1c3-4e02-b6a0-6840e805478c",
     "showTitle": false,
     "title": ""
    }
   },
   "outputs": [
    {
     "name": "stdout",
     "output_type": "stream",
     "text": [
      "+------------------------------------+-----------------------------------+\n",
      "|fruit                               |concat                             |\n",
      "+------------------------------------+-----------------------------------+\n",
      "|[apple, banana, cherry, null, melon]|START,apple,banana,cherry,melon,END|\n",
      "+------------------------------------+-----------------------------------+\n",
      "\n"
     ]
    }
   ],
   "source": [
    "# Let's try to apply the aggregate function on string array function.\n",
    "(array_df.select(\"fruit\", \n",
    "                 F.aggregate(\"fruit\", F.lit(\"START\"), lambda x, y: F.concat_ws(\",\", x, y), lambda x: \n",
    "                             F.concat(x, F.lit(\",\"), F.lit(\"END\"))).alias(\"concat\"))\n",
    ".show(truncate=False)\n",
    ")"
   ]
  },
  {
   "cell_type": "markdown",
   "metadata": {
    "application/vnd.databricks.v1+cell": {
     "cellMetadata": {},
     "inputWidgets": {},
     "nuid": "181c82c1-cc54-4617-8185-db3918a6c5d7",
     "showTitle": false,
     "title": ""
    }
   },
   "source": [
    "#### zip_with"
   ]
  },
  {
   "cell_type": "code",
   "execution_count": 22,
   "metadata": {
    "application/vnd.databricks.v1+cell": {
     "cellMetadata": {},
     "inputWidgets": {},
     "nuid": "aec793ae-8845-40bf-8fcc-925d5625d165",
     "showTitle": false,
     "title": ""
    }
   },
   "outputs": [
    {
     "name": "stdout",
     "output_type": "stream",
     "text": [
      "+------------------------------------+--------------------+----------------------------------------------+\n",
      "|fruit                               |num_fruit           |zip_col                                       |\n",
      "+------------------------------------+--------------------+----------------------------------------------+\n",
      "|[apple, banana, cherry, null, melon]|[10, 12, 15, 17, 20]|[apple#10, banana#12, cherry#15, 17, melon#20]|\n",
      "+------------------------------------+--------------------+----------------------------------------------+\n",
      "\n"
     ]
    }
   ],
   "source": [
    "(array_df\n",
    " .select(\"fruit\", \"num_fruit\", F.zip_with(\"fruit\", \"num_fruit\", lambda x, y: F.concat_ws(\"#\", x , y)).alias(\"zip_col\"))\n",
    " .show(truncate=False)\n",
    ")"
   ]
  },
  {
   "cell_type": "code",
   "execution_count": 23,
   "metadata": {
    "application/vnd.databricks.v1+cell": {
     "cellMetadata": {},
     "inputWidgets": {},
     "nuid": "f1ebfadc-72f1-4d58-92b9-974d983412cb",
     "showTitle": false,
     "title": ""
    }
   },
   "outputs": [
    {
     "name": "stdout",
     "output_type": "stream",
     "text": [
      "+------------------------------------+--------------------+----------------------------------------------+\n",
      "|fruit                               |num_fruit           |zip_col                                       |\n",
      "+------------------------------------+--------------------+----------------------------------------------+\n",
      "|[apple, banana, cherry, null, melon]|[10, 12, 15, 17, 20]|[apple#10, banana#12, cherry#15, 17, melon#20]|\n",
      "+------------------------------------+--------------------+----------------------------------------------+\n",
      "\n"
     ]
    }
   ],
   "source": [
    "# Using SQL API\n",
    "(array_df\n",
    " .selectExpr(\"fruit\", \"num_fruit\", \"zip_with(fruit, num_fruit, (x,y) -> concat_ws('#', x, y)) as zip_col\")\n",
    " .show(truncate=False)\n",
    ")"
   ]
  },
  {
   "cell_type": "code",
   "execution_count": 24,
   "metadata": {
    "application/vnd.databricks.v1+cell": {
     "cellMetadata": {},
     "inputWidgets": {},
     "nuid": "7f39b866-ed21-46d6-b6ee-27e5721d822e",
     "showTitle": false,
     "title": ""
    }
   },
   "outputs": [
    {
     "name": "stdout",
     "output_type": "stream",
     "text": [
      "+--------------------+--------------------+--------------------+\n",
      "|num_fruit           |dup_num_fruit       |zip_nums            |\n",
      "+--------------------+--------------------+--------------------+\n",
      "|[10, 12, 15, 17, 20]|[10, 12, 15, 17, 20]|[20, 24, 30, 34, 40]|\n",
      "+--------------------+--------------------+--------------------+\n",
      "\n"
     ]
    }
   ],
   "source": [
    "(array_df.withColumn(\"dup_num_fruit\", F.col(\"num_fruit\"))\n",
    " .select(\"num_fruit\", \"dup_num_fruit\", F.zip_with(\"num_fruit\", \"dup_num_fruit\", lambda x, y: x + y).alias(\"zip_nums\"))\n",
    " .show(truncate=False)\n",
    "       )"
   ]
  },
  {
   "cell_type": "code",
   "execution_count": 25,
   "metadata": {
    "application/vnd.databricks.v1+cell": {
     "cellMetadata": {},
     "inputWidgets": {},
     "nuid": "19cf3134-6ab4-4e25-ad48-ae51bc1b2504",
     "showTitle": false,
     "title": ""
    }
   },
   "outputs": [
    {
     "name": "stdout",
     "output_type": "stream",
     "text": [
      "+--------------------+--------------------+--------------------+\n",
      "|num_fruit           |dup_num_fruit       |zip_nums            |\n",
      "+--------------------+--------------------+--------------------+\n",
      "|[10, 12, 15, 17, 20]|[10, 12, 15, 17, 20]|[20, 24, 30, 34, 40]|\n",
      "+--------------------+--------------------+--------------------+\n",
      "\n"
     ]
    }
   ],
   "source": [
    "# Using SQL API\n",
    "(array_df\n",
    " .withColumn(\"dup_num_fruit\", F.col(\"num_fruit\"))\n",
    " .selectExpr(\"num_fruit\", \"dup_num_fruit\", \"zip_with(num_fruit, dup_num_fruit, (x,y) -> x + y) as zip_nums\")\n",
    " .show(truncate=False)\n",
    ")"
   ]
  },
  {
   "cell_type": "markdown",
   "metadata": {
    "application/vnd.databricks.v1+cell": {
     "cellMetadata": {},
     "inputWidgets": {},
     "nuid": "8f830006-6a36-4109-9bc4-f928b9b87865",
     "showTitle": false,
     "title": ""
    }
   },
   "source": [
    "#### map_filter"
   ]
  },
  {
   "cell_type": "code",
   "execution_count": 26,
   "metadata": {
    "application/vnd.databricks.v1+cell": {
     "cellMetadata": {},
     "inputWidgets": {},
     "nuid": "a9d83121-01ab-4e17-97ef-f924a0bbc95c",
     "showTitle": false,
     "title": ""
    }
   },
   "outputs": [
    {
     "name": "stdout",
     "output_type": "stream",
     "text": [
      "+---+------------------------------------------------------+\n",
      "|id |map_data                                              |\n",
      "+---+------------------------------------------------------+\n",
      "|1  |{banana -> 12, cherry -> 15, apple -> 10, melon -> 20}|\n",
      "+---+------------------------------------------------------+\n",
      "\n"
     ]
    }
   ],
   "source": [
    "map_df.show(truncate=False)"
   ]
  },
  {
   "cell_type": "code",
   "execution_count": 27,
   "metadata": {
    "application/vnd.databricks.v1+cell": {
     "cellMetadata": {},
     "inputWidgets": {},
     "nuid": "62e600b0-9bfa-434c-b01c-7b579e7d0c59",
     "showTitle": false,
     "title": ""
    }
   },
   "outputs": [
    {
     "name": "stdout",
     "output_type": "stream",
     "text": [
      "+---------------------------+\n",
      "|filtered_data              |\n",
      "+---------------------------+\n",
      "|{cherry -> 15, melon -> 20}|\n",
      "+---------------------------+\n",
      "\n"
     ]
    }
   ],
   "source": [
    "# Returns a map whose key-value pairs satisfy a predicate.\n",
    "(map_df.select(F.map_filter(\"map_data\", lambda k, v: v > 12).alias(\"filtered_data\"))\n",
    ".show(truncate=False))"
   ]
  },
  {
   "cell_type": "code",
   "execution_count": 28,
   "metadata": {
    "application/vnd.databricks.v1+cell": {
     "cellMetadata": {},
     "inputWidgets": {},
     "nuid": "46ee9852-2ea7-4eec-bd14-57a657c53d81",
     "showTitle": false,
     "title": ""
    }
   },
   "outputs": [
    {
     "name": "stdout",
     "output_type": "stream",
     "text": [
      "+---------------------------+\n",
      "|filtered_data              |\n",
      "+---------------------------+\n",
      "|{banana -> 12, apple -> 10}|\n",
      "+---------------------------+\n",
      "\n"
     ]
    }
   ],
   "source": [
    "(map_df.select(F.map_filter(\"map_data\", lambda k, v: k.contains(\"a\")).alias(\"filtered_data\"))\n",
    ".show(truncate=False))"
   ]
  },
  {
   "cell_type": "code",
   "execution_count": 29,
   "metadata": {
    "application/vnd.databricks.v1+cell": {
     "cellMetadata": {},
     "inputWidgets": {},
     "nuid": "7b94a2d1-0859-4625-8044-c782c9e16425",
     "showTitle": false,
     "title": ""
    }
   },
   "outputs": [
    {
     "name": "stdout",
     "output_type": "stream",
     "text": [
      "+------------------------------------------------------+---------------------------+\n",
      "|map_data                                              |filtered_data              |\n",
      "+------------------------------------------------------+---------------------------+\n",
      "|{banana -> 12, cherry -> 15, apple -> 10, melon -> 20}|{cherry -> 15, melon -> 20}|\n",
      "+------------------------------------------------------+---------------------------+\n",
      "\n"
     ]
    }
   ],
   "source": [
    "# Using SQL API\n",
    "(map_df.selectExpr(\"map_data\", \"map_filter(map_data, (k, v) -> v > 12) as filtered_data\")\n",
    ".show(truncate=False))"
   ]
  },
  {
   "cell_type": "markdown",
   "metadata": {
    "application/vnd.databricks.v1+cell": {
     "cellMetadata": {},
     "inputWidgets": {},
     "nuid": "0207cfe6-5d72-431e-8f9d-260dea353947",
     "showTitle": false,
     "title": ""
    }
   },
   "source": [
    "#### map_zip_with"
   ]
  },
  {
   "cell_type": "code",
   "execution_count": 30,
   "metadata": {
    "application/vnd.databricks.v1+cell": {
     "cellMetadata": {},
     "inputWidgets": {},
     "nuid": "393e14d9-572d-4d7f-b9b9-5e7dc9228198",
     "showTitle": false,
     "title": ""
    }
   },
   "outputs": [
    {
     "name": "stdout",
     "output_type": "stream",
     "text": [
      "+------------------------------------------------------+\n",
      "|map_zipped_data                                       |\n",
      "+------------------------------------------------------+\n",
      "|{banana -> 24, cherry -> 30, apple -> 20, melon -> 40}|\n",
      "+------------------------------------------------------+\n",
      "\n"
     ]
    }
   ],
   "source": [
    "(map_df.withColumn(\"dup_map_data\", F.col(\"map_data\"))\n",
    " .select(F.map_zip_with(\"map_data\", \"dup_map_data\", lambda k, v1, v2: v1 + v2).alias(\"map_zipped_data\"))\n",
    " .show(truncate=False)\n",
    ")"
   ]
  },
  {
   "cell_type": "code",
   "execution_count": 31,
   "metadata": {
    "application/vnd.databricks.v1+cell": {
     "cellMetadata": {},
     "inputWidgets": {},
     "nuid": "24f2cefb-c53f-4ee6-802a-3a6c2c8dd077",
     "showTitle": false,
     "title": ""
    }
   },
   "outputs": [
    {
     "name": "stdout",
     "output_type": "stream",
     "text": [
      "+------------------------------------------------------+\n",
      "|map_zipped_data                                       |\n",
      "+------------------------------------------------------+\n",
      "|{banana -> 24, cherry -> 30, apple -> 20, melon -> 40}|\n",
      "+------------------------------------------------------+\n",
      "\n"
     ]
    }
   ],
   "source": [
    "# Using SQL API\n",
    "(map_df\n",
    " .withColumn(\"dup_map_data\", F.col(\"map_data\"))\n",
    " .selectExpr(\"map_zip_with(map_data, dup_map_data, (k, v1, v2) -> v1 + v2) as map_zipped_data\")\n",
    " .show(truncate=False))"
   ]
  },
  {
   "cell_type": "markdown",
   "metadata": {
    "application/vnd.databricks.v1+cell": {
     "cellMetadata": {},
     "inputWidgets": {},
     "nuid": "7ba1df58-05a9-40fa-852a-17bcd0a4c753",
     "showTitle": false,
     "title": ""
    }
   },
   "source": [
    "#### transform_keys"
   ]
  },
  {
   "cell_type": "code",
   "execution_count": 32,
   "metadata": {
    "application/vnd.databricks.v1+cell": {
     "cellMetadata": {},
     "inputWidgets": {},
     "nuid": "7e01e580-ea4a-497f-90b3-2100fb934708",
     "showTitle": false,
     "title": ""
    }
   },
   "outputs": [
    {
     "name": "stdout",
     "output_type": "stream",
     "text": [
      "+------------------------------------------------------+\n",
      "|upper_key                                             |\n",
      "+------------------------------------------------------+\n",
      "|{BANANA -> 12, CHERRY -> 15, APPLE -> 10, MELON -> 20}|\n",
      "+------------------------------------------------------+\n",
      "\n"
     ]
    }
   ],
   "source": [
    "(map_df.select(F.transform_keys(\"map_data\", lambda k, v: F.upper(k)).alias(\"upper_key\"))\n",
    ".show(truncate=False)\n",
    ")"
   ]
  },
  {
   "cell_type": "code",
   "execution_count": 33,
   "metadata": {
    "application/vnd.databricks.v1+cell": {
     "cellMetadata": {},
     "inputWidgets": {},
     "nuid": "a14f174e-3601-4ca8-b750-219d47bc9426",
     "showTitle": false,
     "title": ""
    }
   },
   "outputs": [
    {
     "name": "stdout",
     "output_type": "stream",
     "text": [
      "+------------------------------------------------------+\n",
      "|upper_key                                             |\n",
      "+------------------------------------------------------+\n",
      "|{BANANA -> 12, CHERRY -> 15, APPLE -> 10, MELON -> 20}|\n",
      "+------------------------------------------------------+\n",
      "\n"
     ]
    }
   ],
   "source": [
    "# Using SQL API\n",
    "(map_df\n",
    " .selectExpr(\"transform_keys(map_data, (k, v) -> upper(k)) as upper_key\")\n",
    " .show(truncate=False))"
   ]
  },
  {
   "cell_type": "markdown",
   "metadata": {
    "application/vnd.databricks.v1+cell": {
     "cellMetadata": {},
     "inputWidgets": {},
     "nuid": "604c6d29-356d-4eb8-a47b-74993de331f0",
     "showTitle": false,
     "title": ""
    }
   },
   "source": [
    "#### transform_values"
   ]
  },
  {
   "cell_type": "code",
   "execution_count": 34,
   "metadata": {
    "application/vnd.databricks.v1+cell": {
     "cellMetadata": {},
     "inputWidgets": {},
     "nuid": "f71932bf-7080-4114-ae77-90a6152cb2e6",
     "showTitle": false,
     "title": ""
    }
   },
   "outputs": [
    {
     "name": "stdout",
     "output_type": "stream",
     "text": [
      "+------------------------------------------------------+\n",
      "|double_value                                          |\n",
      "+------------------------------------------------------+\n",
      "|{banana -> 24, cherry -> 30, apple -> 20, melon -> 40}|\n",
      "+------------------------------------------------------+\n",
      "\n"
     ]
    }
   ],
   "source": [
    "# Applies a function to every key-value pair in a map and returns a map with the results of those applications as the new values for the pairs.\n",
    "\n",
    "(map_df.select(F.transform_values(\"map_data\", lambda k, v: v * 2).alias(\"double_value\"))\n",
    ".show(truncate=False)\n",
    ")"
   ]
  },
  {
   "cell_type": "code",
   "execution_count": 35,
   "metadata": {
    "application/vnd.databricks.v1+cell": {
     "cellMetadata": {},
     "inputWidgets": {},
     "nuid": "94419093-4797-46c7-8e03-b1ab44ecab5a",
     "showTitle": false,
     "title": ""
    }
   },
   "outputs": [
    {
     "name": "stdout",
     "output_type": "stream",
     "text": [
      "+------------------------------------------------------+\n",
      "|double_value                                          |\n",
      "+------------------------------------------------------+\n",
      "|{banana -> 24, cherry -> 30, apple -> 20, melon -> 40}|\n",
      "+------------------------------------------------------+\n",
      "\n"
     ]
    }
   ],
   "source": [
    "# Using SQL API\n",
    "(map_df\n",
    " .selectExpr(\"transform_values(map_data, (k, v) -> v * 2) as double_value\")\n",
    " .show(truncate=False))"
   ]
  },
  {
   "cell_type": "markdown",
   "metadata": {
    "application/vnd.databricks.v1+cell": {
     "cellMetadata": {},
     "inputWidgets": {},
     "nuid": "f1a06762-9739-4ab3-83b7-c220fd8796e2",
     "showTitle": false,
     "title": ""
    }
   },
   "source": [
    "### End of the Notebook"
   ]
  }
 ],
 "metadata": {
  "application/vnd.databricks.v1+notebook": {
   "dashboards": [],
   "language": "python",
   "notebookMetadata": {
    "pythonIndentUnit": 2
   },
   "notebookName": "Apache Spark Higher-Order Functions  - Aggregate function",
   "notebookOrigID": 2730999396957247,
   "widgets": {}
  },
  "kernelspec": {
   "display_name": "Python 3 (ipykernel)",
   "language": "python",
   "name": "python3"
  },
  "language_info": {
   "codemirror_mode": {
    "name": "ipython",
    "version": 3
   },
   "file_extension": ".py",
   "mimetype": "text/x-python",
   "name": "python",
   "nbconvert_exporter": "python",
   "pygments_lexer": "ipython3",
   "version": "3.9.6"
  }
 },
 "nbformat": 4,
 "nbformat_minor": 1
}
